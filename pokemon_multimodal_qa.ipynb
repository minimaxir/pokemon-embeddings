{
 "cells": [
  {
   "cell_type": "code",
   "execution_count": 1,
   "metadata": {},
   "outputs": [
    {
     "name": "stderr",
     "output_type": "stream",
     "text": [
      "/Users/maxwoolf/.venv/lib/python3.12/site-packages/tqdm/auto.py:21: TqdmWarning: IProgress not found. Please update jupyter and ipywidgets. See https://ipywidgets.readthedocs.io/en/stable/user_install.html\n",
      "  from .autonotebook import tqdm as notebook_tqdm\n"
     ]
    }
   ],
   "source": [
    "import os\n",
    "\n",
    "import numpy as np\n",
    "import requests\n",
    "import torch\n",
    "import torch.nn.functional as F\n",
    "from datasets import load_dataset\n",
    "from transformers import AutoModel, AutoTokenizer"
   ]
  },
  {
   "cell_type": "markdown",
   "metadata": {},
   "source": [
    "## Load the Text Model (do not need Vision Model)\n"
   ]
  },
  {
   "cell_type": "code",
   "execution_count": 2,
   "metadata": {},
   "outputs": [
    {
     "name": "stderr",
     "output_type": "stream",
     "text": [
      "/Users/maxwoolf/.venv/lib/python3.12/site-packages/huggingface_hub/file_download.py:1132: FutureWarning: `resume_download` is deprecated and will be removed in version 1.0.0. Downloads always resume when possible. If you want to force a new download, use `force_download=True`.\n",
      "  warnings.warn(\n",
      "/Users/maxwoolf/.venv/lib/python3.12/site-packages/huggingface_hub/file_download.py:1132: FutureWarning: `resume_download` is deprecated and will be removed in version 1.0.0. Downloads always resume when possible. If you want to force a new download, use `force_download=True`.\n",
      "  warnings.warn(\n",
      "<All keys matched successfully>\n"
     ]
    }
   ],
   "source": [
    "gpu = False\n",
    "\n",
    "tokenizer = AutoTokenizer.from_pretrained(\n",
    "    \"nomic-ai/nomic-embed-text-v1.5\", model_max_length=8192\n",
    ")\n",
    "text_model = AutoModel.from_pretrained(\n",
    "    \"nomic-ai/nomic-embed-text-v1.5\", trust_remote_code=True, rotary_scaling_factor=2\n",
    ")\n",
    "if gpu:\n",
    "    text_model.to(\"cuda\")\n",
    "_ = text_model.eval()"
   ]
  },
  {
   "cell_type": "code",
   "execution_count": 6,
   "metadata": {},
   "outputs": [],
   "source": [
    "def mean_pooling(model_output, attention_mask):\n",
    "    token_embeddings = model_output[0]\n",
    "    input_mask_expanded = (\n",
    "        attention_mask.unsqueeze(-1).expand(token_embeddings.size()).float()\n",
    "    )\n",
    "    return torch.sum(token_embeddings * input_mask_expanded, 1) / torch.clamp(\n",
    "        input_mask_expanded.sum(1), min=1e-9\n",
    "    )\n",
    "\n",
    "\n",
    "def get_text_embedding(text: str):\n",
    "    encoded_input = tokenizer(text, padding=True, truncation=True, return_tensors=\"pt\")\n",
    "\n",
    "    if gpu:\n",
    "        encoded_input = encoded_input.to(\"cuda\")\n",
    "\n",
    "    with torch.no_grad():\n",
    "        model_output = text_model(**encoded_input)\n",
    "\n",
    "    text_embeddings = mean_pooling(model_output, encoded_input[\"attention_mask\"])\n",
    "    text_embeddings = F.layer_norm(\n",
    "        text_embeddings, normalized_shape=(text_embeddings.shape[1],)\n",
    "    )\n",
    "\n",
    "    text_embeddings = F.normalize(text_embeddings, p=2, dim=1)\n",
    "    return text_embeddings[0].cpu().detach().numpy()"
   ]
  },
  {
   "cell_type": "code",
   "execution_count": 7,
   "metadata": {},
   "outputs": [
    {
     "data": {
      "text/plain": [
       "(768,)"
      ]
     },
     "execution_count": 7,
     "metadata": {},
     "output_type": "execute_result"
    }
   ],
   "source": [
    "sentences = [\n",
    "    \"search_query: What are cute animals to cuddle with?\",\n",
    "]\n",
    "\n",
    "get_text_embedding(sentences).shape"
   ]
  },
  {
   "cell_type": "markdown",
   "metadata": {},
   "source": [
    "## Load the Previously Generated Image Embeddings\n"
   ]
  },
  {
   "cell_type": "code",
   "execution_count": 8,
   "metadata": {},
   "outputs": [
    {
     "data": {
      "text/plain": [
       "Dataset({\n",
       "    features: ['id', 'text_embedding', 'image_embedding', 'umap_2d_x', 'umap_2d_y'],\n",
       "    num_rows: 1302\n",
       "})"
      ]
     },
     "execution_count": 8,
     "metadata": {},
     "output_type": "execute_result"
    }
   ],
   "source": [
    "dataset = load_dataset(\"parquet\", data_files=\"pokemon_embeddings.parquet\")[\"train\"]\n",
    "\n",
    "# embeddings must be numpy arrays\n",
    "dataset.set_format(\n",
    "    type=\"numpy\", columns=[\"text_embedding\", \"image_embedding\"], output_all_columns=True\n",
    ")\n",
    "dataset"
   ]
  },
  {
   "cell_type": "code",
   "execution_count": 9,
   "metadata": {},
   "outputs": [
    {
     "data": {
      "text/plain": [
       "(1302, 768)"
      ]
     },
     "execution_count": 9,
     "metadata": {},
     "output_type": "execute_result"
    }
   ],
   "source": [
    "poke_ids = dataset[\"id\"]\n",
    "image_embeddings = dataset[\"image_embedding\"]\n",
    "image_embeddings.shape"
   ]
  },
  {
   "cell_type": "markdown",
   "metadata": {},
   "source": [
    "## Set up Multimodal QA\n",
    "\n",
    "First, get Pokemon Names/IDs for populating.\n"
   ]
  },
  {
   "cell_type": "code",
   "execution_count": 10,
   "metadata": {},
   "outputs": [],
   "source": [
    "graphql_query = \"\"\"\n",
    "{\n",
    "  pokemon_v2_pokemon(where: {id: {_lt: 10000}}, order_by: {id: asc}) {\n",
    "    id\n",
    "    name\n",
    "  }\n",
    "}\n",
    "\"\"\"\n",
    "\n",
    "r = requests.post(\n",
    "    \"https://beta.pokeapi.co/graphql/v1beta\",\n",
    "    json={\n",
    "        \"query\": graphql_query,\n",
    "    },\n",
    ")\n",
    "\n",
    "pokemon = r.json()[\"data\"][\"pokemon_v2_pokemon\"]\n",
    "poke_dict = {x[\"id\"]: x[\"name\"].title() for x in pokemon}"
   ]
  },
  {
   "cell_type": "code",
   "execution_count": 15,
   "metadata": {},
   "outputs": [],
   "source": [
    "def image_lookup_from_text_query(query, n=10):\n",
    "    embed = get_text_embedding(\"search_query: \" + query)\n",
    "    cossims_text_image = embed @ image_embeddings.T\n",
    "    top_idx = np.argsort(cossims_text_image)[::-1]\n",
    "\n",
    "    results = []\n",
    "\n",
    "    count = 0\n",
    "    for idx in top_idx:\n",
    "        poke_id = poke_ids[idx]\n",
    "        if poke_id in poke_dict.keys():\n",
    "            poke_name = poke_dict[idx]\n",
    "            prob = cossims_text_image[idx]\n",
    "\n",
    "            results.append({\"id\": poke_id, \"name\": poke_name, \"prob\": prob})\n",
    "            count += 1\n",
    "            if count == n:\n",
    "                break\n",
    "\n",
    "    return results"
   ]
  },
  {
   "cell_type": "code",
   "execution_count": 18,
   "metadata": {},
   "outputs": [
    {
     "data": {
      "text/plain": [
       "[{'id': 583, 'name': 'Vanillite', 'prob': 0.085194},\n",
       " {'id': 869, 'name': 'Milcery', 'prob': 0.076221325},\n",
       " {'id': 713, 'name': 'Bergmite', 'prob': 0.06910135},\n",
       " {'id': 11, 'name': 'Caterpie', 'prob': 0.06868309},\n",
       " {'id': 582, 'name': 'Swanna', 'prob': 0.06752206},\n",
       " {'id': 703, 'name': 'Dedenne', 'prob': 0.0665906},\n",
       " {'id': 220, 'name': 'Magcargo', 'prob': 0.06607176},\n",
       " {'id': 771, 'name': 'Palossand', 'prob': 0.06571421},\n",
       " {'id': 712, 'name': 'Gourgeist-Average', 'prob': 0.06521829},\n",
       " {'id': 577, 'name': 'Gothitelle', 'prob': 0.06519396}]"
      ]
     },
     "execution_count": 18,
     "metadata": {},
     "output_type": "execute_result"
    }
   ],
   "source": [
    "query = \"What looks like a ice cream cone?\"\n",
    "\n",
    "results = image_lookup_from_text_query(query)\n",
    "results"
   ]
  },
  {
   "cell_type": "code",
   "execution_count": 27,
   "metadata": {},
   "outputs": [],
   "source": [
    "import csv\n",
    "\n",
    "fieldnames = [\"id\", \"name\", \"prob\"]\n",
    "\n",
    "with open(\"q1.csv\", \"w\") as f:\n",
    "    w = csv.DictWriter(f, fieldnames=fieldnames)\n",
    "    w.writeheader()\n",
    "    for row in results:\n",
    "        w.writerow(row)"
   ]
  },
  {
   "cell_type": "code",
   "execution_count": 28,
   "metadata": {},
   "outputs": [
    {
     "data": {
      "text/plain": [
       "[{'id': 718, 'name': 'Yveltal', 'prob': 0.095142975},\n",
       " {'id': 851, 'name': 'Sizzlipede', 'prob': 0.094870396},\n",
       " {'id': 631, 'name': 'Mandibuzz', 'prob': 0.093551904},\n",
       " {'id': 979, 'name': 'Tatsugiri', 'prob': 0.09278333},\n",
       " {'id': 218, 'name': 'Ursaring', 'prob': 0.09183963},\n",
       " {'id': 555, 'name': 'Darumaka', 'prob': 0.09001139},\n",
       " {'id': 467, 'name': 'Electivire', 'prob': 0.0898506},\n",
       " {'id': 890, 'name': 'Zamazenta', 'prob': 0.0875105},\n",
       " {'id': 850, 'name': 'Toxtricity-Amped', 'prob': 0.08745665},\n",
       " {'id': 727, 'name': 'Torracat', 'prob': 0.08664321}]"
      ]
     },
     "execution_count": 28,
     "metadata": {},
     "output_type": "execute_result"
    }
   ],
   "source": [
    "query = \"What monster has flames coming out of it?\"\n",
    "\n",
    "results = image_lookup_from_text_query(query)\n",
    "results"
   ]
  },
  {
   "cell_type": "code",
   "execution_count": 29,
   "metadata": {},
   "outputs": [],
   "source": [
    "with open(\"q2.csv\", \"w\") as f:\n",
    "    w = csv.DictWriter(f, fieldnames=fieldnames)\n",
    "    w.writeheader()\n",
    "    for row in results:\n",
    "        w.writerow(row)"
   ]
  },
  {
   "cell_type": "code",
   "execution_count": null,
   "metadata": {},
   "outputs": [],
   "source": []
  }
 ],
 "metadata": {
  "kernelspec": {
   "display_name": ".venv",
   "language": "python",
   "name": "python3"
  },
  "language_info": {
   "codemirror_mode": {
    "name": "ipython",
    "version": 3
   },
   "file_extension": ".py",
   "mimetype": "text/x-python",
   "name": "python",
   "nbconvert_exporter": "python",
   "pygments_lexer": "ipython3",
   "version": "3.12.3"
  }
 },
 "nbformat": 4,
 "nbformat_minor": 2
}
