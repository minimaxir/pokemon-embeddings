{
 "cells": [
  {
   "cell_type": "code",
   "execution_count": 1,
   "metadata": {},
   "outputs": [
    {
     "name": "stderr",
     "output_type": "stream",
     "text": [
      "/Users/maxwoolf/.venv/lib/python3.12/site-packages/tqdm/auto.py:21: TqdmWarning: IProgress not found. Please update jupyter and ipywidgets. See https://ipywidgets.readthedocs.io/en/stable/user_install.html\n",
      "  from .autonotebook import tqdm as notebook_tqdm\n"
     ]
    }
   ],
   "source": [
    "import os\n",
    "import csv\n",
    "\n",
    "import numpy as np\n",
    "import requests\n",
    "import torch\n",
    "import torch.nn.functional as F\n",
    "from datasets import load_dataset\n",
    "from transformers import AutoModel, AutoTokenizer"
   ]
  },
  {
   "cell_type": "markdown",
   "metadata": {},
   "source": [
    "## Load the Text Model (do not need Vision Model)\n"
   ]
  },
  {
   "cell_type": "code",
   "execution_count": 2,
   "metadata": {},
   "outputs": [
    {
     "name": "stderr",
     "output_type": "stream",
     "text": [
      "/Users/maxwoolf/.venv/lib/python3.12/site-packages/huggingface_hub/file_download.py:1132: FutureWarning: `resume_download` is deprecated and will be removed in version 1.0.0. Downloads always resume when possible. If you want to force a new download, use `force_download=True`.\n",
      "  warnings.warn(\n",
      "/Users/maxwoolf/.venv/lib/python3.12/site-packages/huggingface_hub/file_download.py:1132: FutureWarning: `resume_download` is deprecated and will be removed in version 1.0.0. Downloads always resume when possible. If you want to force a new download, use `force_download=True`.\n",
      "  warnings.warn(\n",
      "<All keys matched successfully>\n"
     ]
    }
   ],
   "source": [
    "gpu = False\n",
    "\n",
    "tokenizer = AutoTokenizer.from_pretrained(\n",
    "    \"nomic-ai/nomic-embed-text-v1.5\", model_max_length=8192\n",
    ")\n",
    "text_model = AutoModel.from_pretrained(\n",
    "    \"nomic-ai/nomic-embed-text-v1.5\", trust_remote_code=True, rotary_scaling_factor=2\n",
    ")\n",
    "if gpu:\n",
    "    text_model.to(\"cuda\")\n",
    "_ = text_model.eval()"
   ]
  },
  {
   "cell_type": "code",
   "execution_count": 6,
   "metadata": {},
   "outputs": [],
   "source": [
    "def mean_pooling(model_output, attention_mask):\n",
    "    token_embeddings = model_output[0]\n",
    "    input_mask_expanded = (\n",
    "        attention_mask.unsqueeze(-1).expand(token_embeddings.size()).float()\n",
    "    )\n",
    "    return torch.sum(token_embeddings * input_mask_expanded, 1) / torch.clamp(\n",
    "        input_mask_expanded.sum(1), min=1e-9\n",
    "    )\n",
    "\n",
    "\n",
    "def get_text_embedding(text: str):\n",
    "    encoded_input = tokenizer(text, padding=True, truncation=True, return_tensors=\"pt\")\n",
    "\n",
    "    if gpu:\n",
    "        encoded_input = encoded_input.to(\"cuda\")\n",
    "\n",
    "    with torch.no_grad():\n",
    "        model_output = text_model(**encoded_input)\n",
    "\n",
    "    text_embeddings = mean_pooling(model_output, encoded_input[\"attention_mask\"])\n",
    "    text_embeddings = F.layer_norm(\n",
    "        text_embeddings, normalized_shape=(text_embeddings.shape[1],)\n",
    "    )\n",
    "\n",
    "    text_embeddings = F.normalize(text_embeddings, p=2, dim=1)\n",
    "    return text_embeddings[0].cpu().detach().numpy()"
   ]
  },
  {
   "cell_type": "code",
   "execution_count": 7,
   "metadata": {},
   "outputs": [
    {
     "data": {
      "text/plain": [
       "(768,)"
      ]
     },
     "execution_count": 7,
     "metadata": {},
     "output_type": "execute_result"
    }
   ],
   "source": [
    "sentences = [\n",
    "    \"search_query: What are cute animals to cuddle with?\",\n",
    "]\n",
    "\n",
    "get_text_embedding(sentences).shape"
   ]
  },
  {
   "cell_type": "markdown",
   "metadata": {},
   "source": [
    "## Load the Previously Generated Image Embeddings\n"
   ]
  },
  {
   "cell_type": "code",
   "execution_count": 8,
   "metadata": {},
   "outputs": [
    {
     "data": {
      "text/plain": [
       "Dataset({\n",
       "    features: ['id', 'text_embedding', 'image_embedding', 'umap_2d_x', 'umap_2d_y'],\n",
       "    num_rows: 1302\n",
       "})"
      ]
     },
     "execution_count": 8,
     "metadata": {},
     "output_type": "execute_result"
    }
   ],
   "source": [
    "dataset = load_dataset(\"parquet\", data_files=\"pokemon_embeddings.parquet\")[\"train\"]\n",
    "\n",
    "# embeddings must be numpy arrays\n",
    "dataset.set_format(\n",
    "    type=\"numpy\", columns=[\"text_embedding\", \"image_embedding\"], output_all_columns=True\n",
    ")\n",
    "dataset"
   ]
  },
  {
   "cell_type": "code",
   "execution_count": 9,
   "metadata": {},
   "outputs": [
    {
     "data": {
      "text/plain": [
       "(1302, 768)"
      ]
     },
     "execution_count": 9,
     "metadata": {},
     "output_type": "execute_result"
    }
   ],
   "source": [
    "poke_ids = dataset[\"id\"]\n",
    "image_embeddings = dataset[\"image_embedding\"]\n",
    "image_embeddings.shape"
   ]
  },
  {
   "cell_type": "markdown",
   "metadata": {},
   "source": [
    "## Set up Multimodal QA\n",
    "\n",
    "First, get Pokemon Names/IDs for populating.\n"
   ]
  },
  {
   "cell_type": "code",
   "execution_count": 10,
   "metadata": {},
   "outputs": [],
   "source": [
    "graphql_query = \"\"\"\n",
    "{\n",
    "  pokemon_v2_pokemon(where: {id: {_lt: 10000}}, order_by: {id: asc}) {\n",
    "    id\n",
    "    name\n",
    "  }\n",
    "}\n",
    "\"\"\"\n",
    "\n",
    "r = requests.post(\n",
    "    \"https://beta.pokeapi.co/graphql/v1beta\",\n",
    "    json={\n",
    "        \"query\": graphql_query,\n",
    "    },\n",
    ")\n",
    "\n",
    "pokemon = r.json()[\"data\"][\"pokemon_v2_pokemon\"]\n",
    "poke_dict = {x[\"id\"]: x[\"name\"].title() for x in pokemon}"
   ]
  },
  {
   "cell_type": "code",
   "execution_count": 30,
   "metadata": {},
   "outputs": [
    {
     "data": {
      "text/plain": [
       "\"{1: 'Bulbasaur', 2: 'Ivysaur', 3: 'Venusaur', 4: 'Charmander', 5: 'Charmeleon', 6: 'Charizard', 7: '\""
      ]
     },
     "execution_count": 30,
     "metadata": {},
     "output_type": "execute_result"
    }
   ],
   "source": [
    "str(poke_dict)[:100]"
   ]
  },
  {
   "cell_type": "code",
   "execution_count": 87,
   "metadata": {},
   "outputs": [],
   "source": [
    "fieldnames = [\"id\", \"name\", \"prob\"]\n",
    "\n",
    "\n",
    "def image_lookup_from_text_query(query, n=10):\n",
    "    embed = get_text_embedding(\"search_query: \" + query)\n",
    "    cossims_text_image = embed @ image_embeddings.T\n",
    "    top_idx = np.argsort(cossims_text_image)[::-1]\n",
    "\n",
    "    # print(top_idx[:n])\n",
    "\n",
    "    results = []\n",
    "\n",
    "    count = 0\n",
    "    for idx in top_idx:\n",
    "        poke_id = poke_ids[idx]\n",
    "        if poke_id in poke_dict.keys():\n",
    "            poke_name = poke_dict[idx + 1]  # one-index\n",
    "            prob = cossims_text_image[idx]\n",
    "\n",
    "            results.append({\"id\": poke_id, \"name\": poke_name, \"prob\": prob})\n",
    "            count += 1\n",
    "            if count == n:\n",
    "                break\n",
    "\n",
    "    return results\n",
    "\n",
    "\n",
    "def similarity_to_csv(query, csv_index):\n",
    "    results = image_lookup_from_text_query(query)\n",
    "\n",
    "    with open(f\"q{csv_index}.csv\", \"w\") as f:\n",
    "        w = csv.DictWriter(f, fieldnames=fieldnames)\n",
    "        w.writeheader()\n",
    "        for row in results:\n",
    "            w.writerow(row)\n",
    "\n",
    "    return results"
   ]
  },
  {
   "cell_type": "code",
   "execution_count": 91,
   "metadata": {},
   "outputs": [
    {
     "data": {
      "text/plain": [
       "[{'id': 583, 'name': 'Vanillish', 'prob': 0.08493237},\n",
       " {'id': 869, 'name': 'Alcremie', 'prob': 0.075992346},\n",
       " {'id': 713, 'name': 'Avalugg', 'prob': 0.06907362},\n",
       " {'id': 11, 'name': 'Metapod', 'prob': 0.06854135},\n",
       " {'id': 582, 'name': 'Vanillite', 'prob': 0.06713396},\n",
       " {'id': 703, 'name': 'Carbink', 'prob': 0.066326044},\n",
       " {'id': 220, 'name': 'Swinub', 'prob': 0.06581724},\n",
       " {'id': 771, 'name': 'Pyukumuku', 'prob': 0.065558955},\n",
       " {'id': 577, 'name': 'Solosis', 'prob': 0.06508828},\n",
       " {'id': 712, 'name': 'Bergmite', 'prob': 0.06482702}]"
      ]
     },
     "execution_count": 91,
     "metadata": {},
     "output_type": "execute_result"
    }
   ],
   "source": [
    "query = \"What looks like an ice cream cone?\"\n",
    "\n",
    "similarity_to_csv(query, 1)"
   ]
  },
  {
   "cell_type": "code",
   "execution_count": 92,
   "metadata": {},
   "outputs": [
    {
     "data": {
      "text/plain": [
       "[{'id': 53, 'name': 'Persian', 'prob': 0.07966652},\n",
       " {'id': 726, 'name': 'Torracat', 'prob': 0.075021714},\n",
       " {'id': 431, 'name': 'Glameow', 'prob': 0.07453124},\n",
       " {'id': 844, 'name': 'Sandaconda', 'prob': 0.07432804},\n",
       " {'id': 1014, 'name': 'Okidogi', 'prob': 0.07432228},\n",
       " {'id': 196, 'name': 'Espeon', 'prob': 0.07034817},\n",
       " {'id': 39, 'name': 'Jigglypuff', 'prob': 0.07002451},\n",
       " {'id': 432, 'name': 'Purugly', 'prob': 0.06959056},\n",
       " {'id': 509, 'name': 'Purrloin', 'prob': 0.069366224},\n",
       " {'id': 725, 'name': 'Litten', 'prob': 0.068936065}]"
      ]
     },
     "execution_count": 92,
     "metadata": {},
     "output_type": "execute_result"
    }
   ],
   "source": [
    "query = \"What looks like an orange cat?\"\n",
    "\n",
    "similarity_to_csv(query, 2)"
   ]
  },
  {
   "cell_type": "code",
   "execution_count": 93,
   "metadata": {},
   "outputs": [
    {
     "data": {
      "text/plain": [
       "[{'id': 201, 'name': 'Unown', 'prob': 0.0817163},\n",
       " {'id': 114, 'name': 'Tangela', 'prob': 0.07049845},\n",
       " {'id': 44, 'name': 'Gloom', 'prob': 0.07007043},\n",
       " {'id': 808, 'name': 'Meltan', 'prob': 0.06915918},\n",
       " {'id': 355, 'name': 'Duskull', 'prob': 0.06906678},\n",
       " {'id': 101, 'name': 'Electrode', 'prob': 0.068546444},\n",
       " {'id': 205, 'name': 'Forretress', 'prob': 0.06788925},\n",
       " {'id': 960, 'name': 'Wiglett', 'prob': 0.06769621},\n",
       " {'id': 455, 'name': 'Carnivine', 'prob': 0.066377126},\n",
       " {'id': 524, 'name': 'Roggenrola', 'prob': 0.06605223}]"
      ]
     },
     "execution_count": 93,
     "metadata": {},
     "output_type": "execute_result"
    }
   ],
   "source": [
    "query = \"What has only one eye?\"\n",
    "\n",
    "similarity_to_csv(query, 3)"
   ]
  },
  {
   "cell_type": "code",
   "execution_count": 95,
   "metadata": {},
   "outputs": [
    {
     "data": {
      "text/plain": [
       "[{'id': 742, 'name': 'Cutiefly', 'prob': 0.10017799},\n",
       " {'id': 165, 'name': 'Ledyba', 'prob': 0.09996718},\n",
       " {'id': 840, 'name': 'Applin', 'prob': 0.09831544},\n",
       " {'id': 743, 'name': 'Ribombee', 'prob': 0.09511077},\n",
       " {'id': 664, 'name': 'Scatterbug', 'prob': 0.0947648},\n",
       " {'id': 953, 'name': 'Rellor', 'prob': 0.094578125},\n",
       " {'id': 267, 'name': 'Beautifly', 'prob': 0.09351358},\n",
       " {'id': 401, 'name': 'Kricketot', 'prob': 0.09324673},\n",
       " {'id': 139, 'name': 'Omastar', 'prob': 0.09290971},\n",
       " {'id': 48, 'name': 'Venonat', 'prob': 0.091740824}]"
      ]
     },
     "execution_count": 95,
     "metadata": {},
     "output_type": "execute_result"
    }
   ],
   "source": [
    "query = \"What is a cute bug?\"\n",
    "\n",
    "similarity_to_csv(query, 4)"
   ]
  },
  {
   "cell_type": "code",
   "execution_count": null,
   "metadata": {},
   "outputs": [],
   "source": []
  }
 ],
 "metadata": {
  "kernelspec": {
   "display_name": ".venv",
   "language": "python",
   "name": "python3"
  },
  "language_info": {
   "codemirror_mode": {
    "name": "ipython",
    "version": 3
   },
   "file_extension": ".py",
   "mimetype": "text/x-python",
   "name": "python",
   "nbconvert_exporter": "python",
   "pygments_lexer": "ipython3",
   "version": "3.12.3"
  }
 },
 "nbformat": 4,
 "nbformat_minor": 2
}
