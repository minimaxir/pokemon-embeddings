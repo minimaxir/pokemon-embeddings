{
 "cells": [
  {
   "cell_type": "code",
   "execution_count": 1,
   "metadata": {},
   "outputs": [
    {
     "name": "stderr",
     "output_type": "stream",
     "text": [
      "/Users/maxwoolf/.venv/lib/python3.12/site-packages/tqdm/auto.py:21: TqdmWarning: IProgress not found. Please update jupyter and ipywidgets. See https://ipywidgets.readthedocs.io/en/stable/user_install.html\n",
      "  from .autonotebook import tqdm as notebook_tqdm\n"
     ]
    }
   ],
   "source": [
    "import os\n",
    "import time\n",
    "\n",
    "import requests\n",
    "from PIL import Image\n",
    "from tqdm.auto import tqdm"
   ]
  },
  {
   "cell_type": "code",
   "execution_count": 8,
   "metadata": {},
   "outputs": [],
   "source": [
    "folder_name = \"pokemon_images.nosync\"\n",
    "size = 224  # required for the nomic vision model\n",
    "\n",
    "graphql_query = \"\"\"\n",
    "{\n",
    "  pokemon_v2_pokemon(order_by: {id: asc}) {\n",
    "    id\n",
    "  }\n",
    "}\n",
    "\"\"\"\n",
    "\n",
    "image_url = (\n",
    "    \"https://raw.githubusercontent.com/PokeAPI/sprites/master/\"\n",
    "    \"sprites/pokemon/other/official-artwork/{0}.png\"\n",
    ")"
   ]
  },
  {
   "cell_type": "code",
   "execution_count": 10,
   "metadata": {},
   "outputs": [
    {
     "data": {
      "text/plain": [
       "[{'id': 10268},\n",
       " {'id': 10269},\n",
       " {'id': 10270},\n",
       " {'id': 10271},\n",
       " {'id': 10272},\n",
       " {'id': 10273},\n",
       " {'id': 10274},\n",
       " {'id': 10275},\n",
       " {'id': 10276},\n",
       " {'id': 10277}]"
      ]
     },
     "execution_count": 10,
     "metadata": {},
     "output_type": "execute_result"
    }
   ],
   "source": [
    "r = requests.post(\n",
    "    \"https://beta.pokeapi.co/graphql/v1beta\",\n",
    "    json={\n",
    "        \"query\": graphql_query,\n",
    "    },\n",
    ")\n",
    "\n",
    "pokemon = r.json()[\"data\"][\"pokemon_v2_pokemon\"]\n",
    "pokemon[-10:]"
   ]
  },
  {
   "cell_type": "code",
   "execution_count": 19,
   "metadata": {},
   "outputs": [
    {
     "name": "stdout",
     "output_type": "stream",
     "text": [
      "Saving Pokemon images to /pokemon_images.nosync .\n"
     ]
    },
    {
     "name": "stderr",
     "output_type": "stream",
     "text": [
      " 90%|████████▉ | 1170/1302 [00:00<00:00, 8756.16it/s]"
     ]
    },
    {
     "name": "stdout",
     "output_type": "stream",
     "text": [
      "No image for ID 10143\n",
      "No image for ID 10145\n"
     ]
    },
    {
     "name": "stderr",
     "output_type": "stream",
     "text": [
      " 99%|█████████▉| 1286/1302 [01:16<00:04,  3.90it/s]  "
     ]
    },
    {
     "name": "stdout",
     "output_type": "stream",
     "text": [
      "No image for ID 10264\n",
      "No image for ID 10265\n",
      "No image for ID 10266\n",
      "No image for ID 10267\n",
      "No image for ID 10268\n",
      "No image for ID 10269\n",
      "No image for ID 10270\n",
      "No image for ID 10271\n"
     ]
    },
    {
     "name": "stderr",
     "output_type": "stream",
     "text": [
      "100%|██████████| 1302/1302 [01:24<00:00, 15.45it/s]\n"
     ]
    }
   ],
   "source": [
    "print(f\"Saving Pokemon images to /{folder_name} .\")\n",
    "\n",
    "if not os.path.exists(folder_name):\n",
    "    os.makedirs(folder_name)\n",
    "for p in tqdm(pokemon):\n",
    "    p_id = p[\"id\"]\n",
    "    filename = f\"{p_id}.png\"\n",
    "    if not os.path.exists(os.path.join(folder_name, filename)):\n",
    "        try:\n",
    "            img = Image.open(requests.get(image_url.format(p_id), stream=True).raw)\n",
    "            img = img.resize((size, size), Image.Resampling.LANCZOS)\n",
    "\n",
    "            # Composite transparent PNG onto white background\n",
    "            # https://stackoverflow.com/a/9459208\n",
    "            bg = Image.new(\"RGB\", (size, size), (255, 255, 255))\n",
    "            bg.paste(img, mask=img.split()[3])\n",
    "            bg.save(os.path.join(folder_name, filename))\n",
    "            time.sleep(0.5)\n",
    "        except Image.UnidentifiedImageError:\n",
    "            print(f\"No image for ID {p_id}\")"
   ]
  },
  {
   "cell_type": "code",
   "execution_count": null,
   "metadata": {},
   "outputs": [],
   "source": []
  }
 ],
 "metadata": {
  "kernelspec": {
   "display_name": "Python 3.9.12 64-bit",
   "language": "python",
   "name": "python3"
  },
  "language_info": {
   "codemirror_mode": {
    "name": "ipython",
    "version": 3
   },
   "file_extension": ".py",
   "mimetype": "text/x-python",
   "name": "python",
   "nbconvert_exporter": "python",
   "pygments_lexer": "ipython3",
   "version": "3.12.3"
  },
  "orig_nbformat": 4,
  "vscode": {
   "interpreter": {
    "hash": "aee8b7b246df8f9039afb4144a1f6fd8d2ca17a180786b69acc140d282b71a49"
   }
  }
 },
 "nbformat": 4,
 "nbformat_minor": 2
}
