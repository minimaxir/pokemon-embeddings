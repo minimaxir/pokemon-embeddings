{
 "cells": [
  {
   "cell_type": "code",
   "execution_count": 1,
   "metadata": {},
   "outputs": [],
   "source": [
    "import os\n",
    "import re\n",
    "import json\n",
    "import csv\n",
    "import time\n",
    "from tqdm import tqdm\n",
    "\n",
    "import openai\n",
    "from dotenv import load_dotenv\n",
    "import datasets\n",
    "\n",
    "load_dotenv()\n",
    "\n",
    "assert os.getenv(\"OPENAI_API_KEY\"), \"No OPENAI_API_KEY defined in .env.\"\n",
    "\n",
    "openai.api_key = os.getenv(\"OPENAI_API_KEY\")\n"
   ]
  },
  {
   "cell_type": "code",
   "execution_count": 2,
   "metadata": {},
   "outputs": [
    {
     "data": {
      "text/plain": [
       "1154"
      ]
     },
     "execution_count": 2,
     "metadata": {},
     "output_type": "execute_result"
    }
   ],
   "source": [
    "with open(\"all_pokemon_data.json\", \"rb\") as f:\n",
    "    data = json.load(f)\n",
    "\n",
    "len(data)"
   ]
  },
  {
   "cell_type": "code",
   "execution_count": 3,
   "metadata": {},
   "outputs": [
    {
     "data": {
      "text/plain": [
       "\"{'id': 1, 'name': 'bulbasaur', 'height': 7, 'weight': 69, 'base_experience': 64, 'pokemon_v2_pokemon\""
      ]
     },
     "execution_count": 3,
     "metadata": {},
     "output_type": "execute_result"
    }
   ],
   "source": [
    "str(data[0])[0:100]"
   ]
  },
  {
   "attachments": {},
   "cell_type": "markdown",
   "metadata": {},
   "source": [
    "Minify each pokemon text to save tokens (via [Stack Overflow](https://stackoverflow.com/questions/33233313/python-json-dumpsval-to-output-minified-json)), and eliminate redundant `pokemon_v2_` labels. "
   ]
  },
  {
   "cell_type": "code",
   "execution_count": 4,
   "metadata": {},
   "outputs": [
    {
     "data": {
      "text/plain": [
       "'{\"id\":1,\"name\":\"bulbasaur\",\"height\":7,\"weight\":69,\"base_experience\":64,\"pokemontypes\":[{\"type\":{\"nam'"
      ]
     },
     "execution_count": 4,
     "metadata": {},
     "output_type": "execute_result"
    }
   ],
   "source": [
    "def minify_pokemon(pokemon_json):\n",
    "    return json.dumps(pokemon_json, separators=(',', ':')).replace(\"pokemon_v2_\", \"\")\n",
    "\n",
    "minify_pokemon(data[0])[0:100]"
   ]
  },
  {
   "attachments": {},
   "cell_type": "markdown",
   "metadata": {},
   "source": [
    "The traditional methods of saving data to a CSV will not work for embeddings, as they consume a *lot* of a space (about 34KB per embedding). Therefore, the best way to save the embeddings is as a Parquet file where the embeddings are saved internally as numbers, and with the option for better controll (such as using `float32` instead of `float64`). This results in about 9KB per embedding; a notable reduction.\n",
    "\n",
    "The downside is that all embeddings must be stored in memory first (as a list of dicts) instead of writing embeddings to disk as you get them."
   ]
  },
  {
   "cell_type": "code",
   "execution_count": 5,
   "metadata": {},
   "outputs": [
    {
     "name": "stderr",
     "output_type": "stream",
     "text": [
      "100%|██████████| 1154/1154 [06:15<00:00,  3.07it/s]\n"
     ]
    }
   ],
   "source": [
    "max_request_char = 25000  # to avoid going over 8191 token input limit: required for Mew/Arceus\n",
    "\n",
    "poke_dicts = []\n",
    "\n",
    "for poke in tqdm(data):\n",
    "    r = openai.Embedding.create(\n",
    "        input=[minify_pokemon(poke)[:max_request_char]], model=\"text-embedding-ada-002\"\n",
    "    )\n",
    "    poke_dicts.append(\n",
    "        {\n",
    "            \"id\": poke[\"id\"],\n",
    "            \"name\": poke[\"name\"],\n",
    "            \"num_tokens\": r[\"usage\"][\"total_tokens\"],\n",
    "            \"embedding\": r[\"data\"][0][\"embedding\"],\n",
    "        }\n",
    "    )\n",
    "    time.sleep(0.1)\n"
   ]
  },
  {
   "attachments": {},
   "cell_type": "markdown",
   "metadata": {},
   "source": [
    "Manually specify the features we want, to reduce final dataset size and make it slightly more efficient."
   ]
  },
  {
   "cell_type": "code",
   "execution_count": 6,
   "metadata": {},
   "outputs": [
    {
     "data": {
      "text/plain": [
       "{'id': Value(dtype='int32', id=None),\n",
       " 'name': Value(dtype='string', id=None),\n",
       " 'num_tokens': Value(dtype='int32', id=None),\n",
       " 'embedding': Sequence(feature=Value(dtype='float32', id=None), length=1536, id=None)}"
      ]
     },
     "execution_count": 6,
     "metadata": {},
     "output_type": "execute_result"
    }
   ],
   "source": [
    "features = datasets.Features(\n",
    "    {\n",
    "        \"id\": datasets.Value(dtype=\"int32\"),\n",
    "        \"name\": datasets.Value(dtype=\"string\"),\n",
    "        \"num_tokens\": datasets.Value(dtype=\"int32\"),\n",
    "        \"embedding\": datasets.Sequence(\n",
    "            feature=datasets.Value(dtype=\"float32\"), length=1536\n",
    "        ),\n",
    "    }\n",
    ")\n",
    "\n",
    "features\n"
   ]
  },
  {
   "cell_type": "code",
   "execution_count": 7,
   "metadata": {},
   "outputs": [
    {
     "data": {
      "text/plain": [
       "Dataset({\n",
       "    features: ['id', 'name', 'num_tokens', 'embedding'],\n",
       "    num_rows: 1154\n",
       "})"
      ]
     },
     "execution_count": 7,
     "metadata": {},
     "output_type": "execute_result"
    }
   ],
   "source": [
    "dataset = datasets.Dataset.from_list(poke_dicts, features=features)\n",
    "dataset\n"
   ]
  },
  {
   "cell_type": "code",
   "execution_count": 8,
   "metadata": {},
   "outputs": [
    {
     "data": {
      "text/plain": [
       "[0.0020267923828214407,\n",
       " 0.012879939749836922,\n",
       " -8.06017778813839e-05,\n",
       " -0.007401061709970236,\n",
       " -0.03888826444745064,\n",
       " 0.013899873942136765,\n",
       " 0.015795905143022537,\n",
       " -0.031696420162916183,\n",
       " -0.01627971976995468,\n",
       " -0.04419715330004692]"
      ]
     },
     "execution_count": 8,
     "metadata": {},
     "output_type": "execute_result"
    }
   ],
   "source": [
    "dataset[0][\"embedding\"][0:10]"
   ]
  },
  {
   "cell_type": "code",
   "execution_count": 9,
   "metadata": {},
   "outputs": [
    {
     "data": {
      "text/plain": [
       "{'id': Value(dtype='int32', id=None),\n",
       " 'name': Value(dtype='string', id=None),\n",
       " 'num_tokens': Value(dtype='int32', id=None),\n",
       " 'embedding': Sequence(feature=Value(dtype='float32', id=None), length=1536, id=None)}"
      ]
     },
     "execution_count": 9,
     "metadata": {},
     "output_type": "execute_result"
    }
   ],
   "source": [
    "dataset.features"
   ]
  },
  {
   "cell_type": "code",
   "execution_count": 10,
   "metadata": {},
   "outputs": [
    {
     "data": {
      "text/plain": [
       "14672952"
      ]
     },
     "execution_count": 10,
     "metadata": {},
     "output_type": "execute_result"
    }
   ],
   "source": [
    "dataset.to_parquet(\"embeddings.parquet\")"
   ]
  },
  {
   "attachments": {},
   "cell_type": "markdown",
   "metadata": {},
   "source": [
    "Reload dataset to confirm."
   ]
  },
  {
   "cell_type": "code",
   "execution_count": 11,
   "metadata": {},
   "outputs": [
    {
     "name": "stderr",
     "output_type": "stream",
     "text": [
      "Using custom data configuration default-142e43c20aee2ea2\n",
      "/usr/local/lib/python3.9/site-packages/scipy/__init__.py:146: UserWarning: A NumPy version >=1.16.5 and <1.23.0 is required for this version of SciPy (detected version 1.23.1\n",
      "  warnings.warn(f\"A NumPy version >={np_minversion} and <{np_maxversion}\"\n",
      "/usr/local/lib/python3.9/site-packages/datasets/builder.py:712: FutureWarning: 'use_auth_token' was deprecated in version 2.7.1 and will be removed in 3.0.0. Pass `use_auth_token` to the initializer/`load_dataset_builder` instead.\n",
      "  warnings.warn(\n"
     ]
    },
    {
     "name": "stdout",
     "output_type": "stream",
     "text": [
      "Downloading and preparing dataset parquet/default to /Users/maxwoolf/.cache/huggingface/datasets/parquet/default-142e43c20aee2ea2/0.0.0/2a3b91fbd88a2c90d1dbbb32b460cf621d31bd5b05b934492fdef7d8d6f236ec...\n"
     ]
    },
    {
     "name": "stderr",
     "output_type": "stream",
     "text": [
      "Downloading data files: 100%|██████████| 1/1 [00:00<00:00, 4181.76it/s]\n",
      "Extracting data files: 100%|██████████| 1/1 [00:00<00:00, 860.02it/s]\n",
      "                                                        "
     ]
    },
    {
     "name": "stdout",
     "output_type": "stream",
     "text": [
      "Dataset parquet downloaded and prepared to /Users/maxwoolf/.cache/huggingface/datasets/parquet/default-142e43c20aee2ea2/0.0.0/2a3b91fbd88a2c90d1dbbb32b460cf621d31bd5b05b934492fdef7d8d6f236ec. Subsequent calls will reuse this data.\n"
     ]
    },
    {
     "name": "stderr",
     "output_type": "stream",
     "text": [
      "\r"
     ]
    },
    {
     "data": {
      "text/plain": [
       "Dataset({\n",
       "    features: ['id', 'name', 'num_tokens', 'embedding'],\n",
       "    num_rows: 1154\n",
       "})"
      ]
     },
     "execution_count": 11,
     "metadata": {},
     "output_type": "execute_result"
    }
   ],
   "source": [
    "dataset_2 = datasets.Dataset.from_parquet(\"embeddings.parquet\")\n",
    "dataset_2"
   ]
  },
  {
   "cell_type": "code",
   "execution_count": 12,
   "metadata": {},
   "outputs": [
    {
     "data": {
      "text/plain": [
       "[0.0020267923828214407,\n",
       " 0.012879939749836922,\n",
       " -8.06017778813839e-05,\n",
       " -0.007401061709970236,\n",
       " -0.03888826444745064,\n",
       " 0.013899873942136765,\n",
       " 0.015795905143022537,\n",
       " -0.031696420162916183,\n",
       " -0.01627971976995468,\n",
       " -0.04419715330004692]"
      ]
     },
     "execution_count": 12,
     "metadata": {},
     "output_type": "execute_result"
    }
   ],
   "source": [
    "dataset_2[0][\"embedding\"][0:10]"
   ]
  },
  {
   "cell_type": "code",
   "execution_count": 13,
   "metadata": {},
   "outputs": [
    {
     "data": {
      "text/plain": [
       "{'id': Value(dtype='int32', id=None),\n",
       " 'name': Value(dtype='string', id=None),\n",
       " 'num_tokens': Value(dtype='int32', id=None),\n",
       " 'embedding': Sequence(feature=Value(dtype='float32', id=None), length=1536, id=None)}"
      ]
     },
     "execution_count": 13,
     "metadata": {},
     "output_type": "execute_result"
    }
   ],
   "source": [
    "dataset_2.features"
   ]
  },
  {
   "cell_type": "code",
   "execution_count": null,
   "metadata": {},
   "outputs": [],
   "source": []
  }
 ],
 "metadata": {
  "kernelspec": {
   "display_name": "Python 3",
   "language": "python",
   "name": "python3"
  },
  "language_info": {
   "codemirror_mode": {
    "name": "ipython",
    "version": 3
   },
   "file_extension": ".py",
   "mimetype": "text/x-python",
   "name": "python",
   "nbconvert_exporter": "python",
   "pygments_lexer": "ipython3",
   "version": "3.9.12"
  },
  "orig_nbformat": 4,
  "vscode": {
   "interpreter": {
    "hash": "aee8b7b246df8f9039afb4144a1f6fd8d2ca17a180786b69acc140d282b71a49"
   }
  }
 },
 "nbformat": 4,
 "nbformat_minor": 2
}
