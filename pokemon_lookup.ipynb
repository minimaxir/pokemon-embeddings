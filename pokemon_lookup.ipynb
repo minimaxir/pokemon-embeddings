{
 "cells": [
  {
   "cell_type": "code",
   "execution_count": 4,
   "metadata": {},
   "outputs": [],
   "source": [
    "import csv\n",
    "\n",
    "import requests"
   ]
  },
  {
   "cell_type": "code",
   "execution_count": 5,
   "metadata": {},
   "outputs": [
    {
     "data": {
      "text/plain": [
       "[{'id': 1, 'name': 'bulbasaur'},\n",
       " {'id': 2, 'name': 'ivysaur'},\n",
       " {'id': 3, 'name': 'venusaur'},\n",
       " {'id': 4, 'name': 'charmander'},\n",
       " {'id': 5, 'name': 'charmeleon'},\n",
       " {'id': 6, 'name': 'charizard'},\n",
       " {'id': 7, 'name': 'squirtle'},\n",
       " {'id': 8, 'name': 'wartortle'},\n",
       " {'id': 9, 'name': 'blastoise'},\n",
       " {'id': 10, 'name': 'caterpie'}]"
      ]
     },
     "execution_count": 5,
     "metadata": {},
     "output_type": "execute_result"
    }
   ],
   "source": [
    "graphql_query = \"\"\"\n",
    "{\n",
    "  pokemon_v2_pokemon(order_by: {id: asc}) {\n",
    "    id\n",
    "    name\n",
    "  }\n",
    "}\n",
    "\"\"\"\n",
    "\n",
    "r = requests.post(\n",
    "    \"https://beta.pokeapi.co/graphql/v1beta\",\n",
    "    json={\n",
    "        \"query\": graphql_query,\n",
    "    },\n",
    ")\n",
    "\n",
    "pokemon = r.json()[\"data\"][\"pokemon_v2_pokemon\"]\n",
    "pokemon[0:10]"
   ]
  },
  {
   "cell_type": "code",
   "execution_count": 8,
   "metadata": {},
   "outputs": [],
   "source": [
    "poke_dict = {x[\"id\"]: x[\"name\"] for x in pokemon}"
   ]
  },
  {
   "cell_type": "code",
   "execution_count": 9,
   "metadata": {},
   "outputs": [
    {
     "data": {
      "text/plain": [
       "'pikachu'"
      ]
     },
     "execution_count": 9,
     "metadata": {},
     "output_type": "execute_result"
    }
   ],
   "source": [
    "poke_dict[25]"
   ]
  },
  {
   "cell_type": "markdown",
   "metadata": {},
   "source": [
    "Alternatively write to `csv`:\n"
   ]
  },
  {
   "cell_type": "code",
   "execution_count": 10,
   "metadata": {},
   "outputs": [],
   "source": [
    "with open(\"pokemon.csv\", \"w\") as f:\n",
    "    w = csv.DictWriter(f, fieldnames=[\"id\", \"name\"])\n",
    "    w.writeheader()\n",
    "    for poke in pokemon:\n",
    "        w.writerow(poke)"
   ]
  }
 ],
 "metadata": {
  "kernelspec": {
   "display_name": ".venv",
   "language": "python",
   "name": "python3"
  },
  "language_info": {
   "codemirror_mode": {
    "name": "ipython",
    "version": 3
   },
   "file_extension": ".py",
   "mimetype": "text/x-python",
   "name": "python",
   "nbconvert_exporter": "python",
   "pygments_lexer": "ipython3",
   "version": "3.12.3"
  }
 },
 "nbformat": 4,
 "nbformat_minor": 2
}
