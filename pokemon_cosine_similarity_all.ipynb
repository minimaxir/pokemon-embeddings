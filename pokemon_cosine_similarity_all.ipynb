{
 "cells": [
  {
   "cell_type": "code",
   "execution_count": 1,
   "metadata": {},
   "outputs": [
    {
     "name": "stderr",
     "output_type": "stream",
     "text": [
      "/Users/maxwoolf/.venv/lib/python3.12/site-packages/tqdm/auto.py:21: TqdmWarning: IProgress not found. Please update jupyter and ipywidgets. See https://ipywidgets.readthedocs.io/en/stable/user_install.html\n",
      "  from .autonotebook import tqdm as notebook_tqdm\n"
     ]
    }
   ],
   "source": [
    "import numpy as np\n",
    "import datasets\n",
    "from tqdm.auto import tqdm\n",
    "from datasets import load_dataset"
   ]
  },
  {
   "cell_type": "code",
   "execution_count": 2,
   "metadata": {},
   "outputs": [
    {
     "data": {
      "text/plain": [
       "Dataset({\n",
       "    features: ['id', 'text_embedding', 'image_embedding', 'umap_2d_x', 'umap_2d_y'],\n",
       "    num_rows: 1302\n",
       "})"
      ]
     },
     "execution_count": 2,
     "metadata": {},
     "output_type": "execute_result"
    }
   ],
   "source": [
    "dataset = load_dataset(\"parquet\", data_files=\"pokemon_embeddings.parquet\")[\"train\"]\n",
    "\n",
    "# embeddings must be numpy arrays\n",
    "dataset.set_format(\n",
    "    type=\"numpy\",\n",
    "    columns=[\"text_embedding\", \"image_embedding\", \"umap_2d_x\", \"umap_2d_y\"],\n",
    "    output_all_columns=True,\n",
    ")\n",
    "dataset"
   ]
  },
  {
   "attachments": {},
   "cell_type": "markdown",
   "metadata": {},
   "source": [
    "Because the embeddings are already unit normalized, the cosine similarity can be calculated just by calculating the dot product, which in Python is easy since you can do `A @ B`!\n"
   ]
  },
  {
   "cell_type": "code",
   "execution_count": 3,
   "metadata": {},
   "outputs": [
    {
     "data": {
      "text/plain": [
       "0.94904304"
      ]
     },
     "execution_count": 3,
     "metadata": {},
     "output_type": "execute_result"
    }
   ],
   "source": [
    "# Pikachu and Raichu\n",
    "dataset[24][\"text_embedding\"] @ dataset[25][\"text_embedding\"]"
   ]
  },
  {
   "cell_type": "code",
   "execution_count": 4,
   "metadata": {},
   "outputs": [
    {
     "data": {
      "text/plain": [
       "0.9758484"
      ]
     },
     "execution_count": 4,
     "metadata": {},
     "output_type": "execute_result"
    }
   ],
   "source": [
    "dataset[24][\"image_embedding\"] @ dataset[25][\"image_embedding\"]"
   ]
  },
  {
   "cell_type": "code",
   "execution_count": 5,
   "metadata": {},
   "outputs": [
    {
     "data": {
      "text/plain": [
       "(1302, 768)"
      ]
     },
     "execution_count": 5,
     "metadata": {},
     "output_type": "execute_result"
    }
   ],
   "source": [
    "text_embeddings = dataset[\"text_embedding\"]\n",
    "image_embeddings = dataset[\"image_embedding\"]\n",
    "umap_projs = np.hstack(\n",
    "    (np.expand_dims(dataset[\"umap_2d_x\"], 1), np.expand_dims(dataset[\"umap_2d_y\"], 1))\n",
    ")\n",
    "poke_ids = dataset[\"id\"]\n",
    "text_embeddings.shape"
   ]
  },
  {
   "cell_type": "code",
   "execution_count": 6,
   "metadata": {},
   "outputs": [
    {
     "data": {
      "text/plain": [
       "(1302, 2)"
      ]
     },
     "execution_count": 6,
     "metadata": {},
     "output_type": "execute_result"
    }
   ],
   "source": [
    "umap_projs.shape"
   ]
  },
  {
   "cell_type": "code",
   "execution_count": 12,
   "metadata": {},
   "outputs": [
    {
     "data": {
      "text/plain": [
       "array([1.  , 0.94, 0.9 , 0.85, 0.86, 0.84, 0.84, 0.85, 0.81, 0.82, 0.79,\n",
       "       0.87, 0.82, 0.82, 0.84, 0.85, 0.84, 0.83, 0.82, 0.85, 0.83, 0.86,\n",
       "       0.88, 0.87, 0.87, 0.87, 0.85, 0.87, 0.83, 0.87, 0.85, 0.84, 0.83,\n",
       "       0.83, 0.86, 0.84, 0.89, 0.85, 0.86, 0.86, 0.73, 0.73, 0.9 , 0.84,\n",
       "       0.87, 0.88, 0.84, 0.88, 0.86, 0.89], dtype=float32)"
      ]
     },
     "execution_count": 12,
     "metadata": {},
     "output_type": "execute_result"
    }
   ],
   "source": [
    "def cosine_similarities(embed, target):\n",
    "    assert target in [\"text\", \"image\", \"umap\"]\n",
    "    if target == \"text\":\n",
    "        embeddings = text_embeddings\n",
    "    elif target == \"image\":\n",
    "        embeddings = image_embeddings\n",
    "    elif target == \"umap\":\n",
    "        # https://stackoverflow.com/a/47775357\n",
    "        embeddings = umap_projs\n",
    "        a_min_b = embed - embeddings\n",
    "        return np.sqrt(np.einsum(\"ij,ij->i\", a_min_b, a_min_b))\n",
    "\n",
    "    return embed @ embeddings.T\n",
    "\n",
    "\n",
    "# Bulbasaur idx 0, should have high similarity with its evolutions in idx 1 and 2\n",
    "test_cossims = cosine_similarities(dataset[0][\"text_embedding\"], \"text\")\n",
    "test_cossims[0:50].round(2)"
   ]
  },
  {
   "cell_type": "code",
   "execution_count": 13,
   "metadata": {},
   "outputs": [
    {
     "name": "stderr",
     "output_type": "stream",
     "text": [
      "100%|██████████| 1302/1302 [00:02<00:00, 511.09it/s]\n"
     ]
    },
    {
     "data": {
      "text/plain": [
       "5085612"
      ]
     },
     "execution_count": 13,
     "metadata": {},
     "output_type": "execute_result"
    }
   ],
   "source": [
    "cossims = []\n",
    "\n",
    "for poke in tqdm(dataset):\n",
    "    # text cossims\n",
    "    all_cossims = cosine_similarities(poke[\"text_embedding\"], \"text\")\n",
    "    for i, cossim in enumerate(all_cossims):\n",
    "        cossims.append(\n",
    "            {\n",
    "                \"id_1\": poke[\"id\"],\n",
    "                \"id_2\": poke_ids[i],\n",
    "                \"cossim_type\": \"text\",\n",
    "                \"cossim\": cossim,\n",
    "            }\n",
    "        )\n",
    "\n",
    "    # image cossims\n",
    "    all_cossims = cosine_similarities(poke[\"image_embedding\"], \"image\")\n",
    "    for i, cossim in enumerate(all_cossims):\n",
    "        cossims.append(\n",
    "            {\n",
    "                \"id_1\": poke[\"id\"],\n",
    "                \"id_2\": poke_ids[i],\n",
    "                \"cossim_type\": \"image\",\n",
    "                \"cossim\": cossim,\n",
    "            }\n",
    "        )\n",
    "\n",
    "    # UMAP 2D Euclidian Distance\n",
    "    umap_proj = np.concatenate(\n",
    "        (np.array([poke[\"umap_2d_x\"]]), np.array([poke[\"umap_2d_y\"]]))\n",
    "    )\n",
    "    all_cossims = cosine_similarities(umap_proj, \"umap\")\n",
    "    for i, cossim in enumerate(all_cossims):\n",
    "        cossims.append(\n",
    "            {\n",
    "                \"id_1\": poke[\"id\"],\n",
    "                \"id_2\": poke_ids[i],\n",
    "                \"cossim_type\": \"umap_2d\",\n",
    "                \"cossim\": cossim,\n",
    "            }\n",
    "        )\n",
    "\n",
    "len(cossims)"
   ]
  },
  {
   "cell_type": "code",
   "execution_count": 14,
   "metadata": {},
   "outputs": [
    {
     "data": {
      "text/plain": [
       "{'id_1': Value(dtype='int32', id=None),\n",
       " 'id_2': Value(dtype='int32', id=None),\n",
       " 'cossim_type': Value(dtype='string', id=None),\n",
       " 'cossim': Value(dtype='float32', id=None)}"
      ]
     },
     "execution_count": 14,
     "metadata": {},
     "output_type": "execute_result"
    }
   ],
   "source": [
    "features = datasets.Features(\n",
    "    {\n",
    "        \"id_1\": datasets.Value(dtype=\"int32\"),\n",
    "        \"id_2\": datasets.Value(dtype=\"int32\"),\n",
    "        \"cossim_type\": datasets.Value(dtype=\"string\"),\n",
    "        \"cossim\": datasets.Value(dtype=\"float32\"),\n",
    "    }\n",
    ")\n",
    "\n",
    "features"
   ]
  },
  {
   "cell_type": "code",
   "execution_count": 15,
   "metadata": {},
   "outputs": [
    {
     "data": {
      "text/plain": [
       "Dataset({\n",
       "    features: ['id_1', 'id_2', 'cossim_type', 'cossim'],\n",
       "    num_rows: 5085612\n",
       "})"
      ]
     },
     "execution_count": 15,
     "metadata": {},
     "output_type": "execute_result"
    }
   ],
   "source": [
    "dataset_cossim = datasets.Dataset.from_list(cossims, features=features)\n",
    "dataset_cossim"
   ]
  },
  {
   "cell_type": "code",
   "execution_count": 16,
   "metadata": {},
   "outputs": [
    {
     "name": "stderr",
     "output_type": "stream",
     "text": [
      "Creating parquet from Arrow format: 100%|██████████| 5086/5086 [00:02<00:00, 1913.89ba/s]\n"
     ]
    },
    {
     "data": {
      "text/plain": [
       "108493056"
      ]
     },
     "execution_count": 16,
     "metadata": {},
     "output_type": "execute_result"
    }
   ],
   "source": [
    "dataset_cossim.to_parquet(\"pokemon_cossims.parquet\", compression=\"gzip\")"
   ]
  },
  {
   "cell_type": "code",
   "execution_count": null,
   "metadata": {},
   "outputs": [],
   "source": []
  }
 ],
 "metadata": {
  "kernelspec": {
   "display_name": "Python 3",
   "language": "python",
   "name": "python3"
  },
  "language_info": {
   "codemirror_mode": {
    "name": "ipython",
    "version": 3
   },
   "file_extension": ".py",
   "mimetype": "text/x-python",
   "name": "python",
   "nbconvert_exporter": "python",
   "pygments_lexer": "ipython3",
   "version": "3.12.3"
  },
  "orig_nbformat": 4,
  "vscode": {
   "interpreter": {
    "hash": "aee8b7b246df8f9039afb4144a1f6fd8d2ca17a180786b69acc140d282b71a49"
   }
  }
 },
 "nbformat": 4,
 "nbformat_minor": 2
}
