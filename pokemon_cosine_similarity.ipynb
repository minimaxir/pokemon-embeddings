{
 "cells": [
  {
   "cell_type": "code",
   "execution_count": 1,
   "metadata": {},
   "outputs": [],
   "source": [
    "import numpy as np\n",
    "import datasets\n",
    "from rich.console import Console\n",
    "from rich.table import Table\n",
    "from rich.layout import Layout"
   ]
  },
  {
   "cell_type": "code",
   "execution_count": 2,
   "metadata": {},
   "outputs": [
    {
     "name": "stderr",
     "output_type": "stream",
     "text": [
      "Using custom data configuration default-142e43c20aee2ea2\n",
      "/usr/local/lib/python3.9/site-packages/scipy/__init__.py:146: UserWarning: A NumPy version >=1.16.5 and <1.23.0 is required for this version of SciPy (detected version 1.23.1\n",
      "  warnings.warn(f\"A NumPy version >={np_minversion} and <{np_maxversion}\"\n",
      "/usr/local/lib/python3.9/site-packages/datasets/builder.py:712: FutureWarning: 'use_auth_token' was deprecated in version 2.7.1 and will be removed in 3.0.0. Pass `use_auth_token` to the initializer/`load_dataset_builder` instead.\n",
      "  warnings.warn(\n",
      "Found cached dataset parquet (/Users/maxwoolf/.cache/huggingface/datasets/parquet/default-142e43c20aee2ea2/0.0.0/2a3b91fbd88a2c90d1dbbb32b460cf621d31bd5b05b934492fdef7d8d6f236ec)\n"
     ]
    },
    {
     "data": {
      "text/plain": [
       "Dataset({\n",
       "    features: ['id', 'name', 'num_tokens', 'embedding'],\n",
       "    num_rows: 1154\n",
       "})"
      ]
     },
     "execution_count": 2,
     "metadata": {},
     "output_type": "execute_result"
    }
   ],
   "source": [
    "dataset = datasets.Dataset.from_parquet(\"embeddings.parquet\")\n",
    "\n",
    "# embeddings must be numpy arrays\n",
    "dataset.set_format(type='numpy', columns=['embedding'], output_all_columns=True)\n",
    "dataset"
   ]
  },
  {
   "attachments": {},
   "cell_type": "markdown",
   "metadata": {},
   "source": [
    "Because the embeddings are already unit normalized, the cosine similarity can be calculated just by calculating the dot product, which in Python is easy since you can do `A @ B`!"
   ]
  },
  {
   "cell_type": "code",
   "execution_count": 3,
   "metadata": {},
   "outputs": [
    {
     "data": {
      "text/plain": [
       "0.961932"
      ]
     },
     "execution_count": 3,
     "metadata": {},
     "output_type": "execute_result"
    }
   ],
   "source": [
    "# Pikachu and Raichu\n",
    "dataset[24][\"embedding\"] @ dataset[25][\"embedding\"]"
   ]
  },
  {
   "attachments": {},
   "cell_type": "markdown",
   "metadata": {},
   "source": [
    "However, because the input data is semantically similar, cosine similarity will always be very high (in testing, the lowest is `0.88`, so rescaling is an option)\n",
    "\n",
    "Let's try inputting your own ID. Feel free to select your own Pokemon as the target ID to find similarity results you want!"
   ]
  },
  {
   "cell_type": "code",
   "execution_count": 4,
   "metadata": {},
   "outputs": [
    {
     "name": "stderr",
     "output_type": "stream",
     "text": [
      "Loading cached processed dataset at /Users/maxwoolf/.cache/huggingface/datasets/parquet/default-142e43c20aee2ea2/0.0.0/2a3b91fbd88a2c90d1dbbb32b460cf621d31bd5b05b934492fdef7d8d6f236ec/cache-1db0bacecf6d748b.arrow\n"
     ]
    },
    {
     "data": {
      "text/plain": [
       "'bulbasaur'"
      ]
     },
     "execution_count": 4,
     "metadata": {},
     "output_type": "execute_result"
    }
   ],
   "source": [
    "target_id = 1\n",
    "\n",
    "# instead of looking at array indices, we need to find an exact match in case for certain IDs\n",
    "target_poke = dataset.filter(lambda x: x[\"id\"] == target_id)[0]\n",
    "target_poke[\"name\"]"
   ]
  },
  {
   "attachments": {},
   "cell_type": "markdown",
   "metadata": {},
   "source": [
    "However, to compare one Pokemon with all Pokemon, it's much faster to do the dot product of all Pokemon embeddings at the same time, then select the top ones (ignoring the top match, which will always be the original one)"
   ]
  },
  {
   "cell_type": "code",
   "execution_count": 5,
   "metadata": {},
   "outputs": [
    {
     "data": {
      "text/plain": [
       "array([   0,    1,    2, ..., 1130,  692,  894])"
      ]
     },
     "execution_count": 5,
     "metadata": {},
     "output_type": "execute_result"
    }
   ],
   "source": [
    "cos_sims = np.dot(dataset[\"embedding\"], target_poke[\"embedding\"])\n",
    "\n",
    "# min-max norm to scale to 0-1: comment out if do not want to rescale.\n",
    "cos_sims = (cos_sims - cos_sims.min()) / (cos_sims.max() - cos_sims.min())\n",
    "\n",
    "# argsort sorts ascending, so must reverse order to get most similar.\n",
    "top_indicies = np.argsort(cos_sims)[::-1]\n",
    "top_indicies"
   ]
  },
  {
   "attachments": {},
   "cell_type": "markdown",
   "metadata": {},
   "source": [
    "Map these indicies to the dataset.\n",
    "\n",
    "For fun, we'll style the similarity results as a table using `rich`."
   ]
  },
  {
   "cell_type": "code",
   "execution_count": 6,
   "metadata": {},
   "outputs": [
    {
     "data": {
      "text/html": [
       "<pre style=\"white-space:pre;overflow-x:auto;line-height:normal;font-family:Menlo,'DejaVu Sans Mono',consolas,'Courier New',monospace\"><span style=\"font-style: italic\">   Pokémon Most Similar to bulbasaur    </span>     <span style=\"font-style: italic\">     Pokémon Least Similar to bulbasaur      </span>\n",
       "┏━━━━━━━┳━━━━━━━━━━━━━━━━━┳━━━━━━━━━━━━┓     ┏━━━━━━━┳━━━━━━━━━━━━━━━━━━━━━━┳━━━━━━━━━━━━┓\n",
       "┃<span style=\"font-weight: bold\"> ID    </span>┃<span style=\"font-weight: bold\"> Pokémon         </span>┃<span style=\"font-weight: bold\"> Similarity </span>┃     ┃<span style=\"font-weight: bold\"> ID    </span>┃<span style=\"font-weight: bold\"> Pokémon              </span>┃<span style=\"font-weight: bold\"> Similarity </span>┃\n",
       "┡━━━━━━━╇━━━━━━━━━━━━━━━━━╇━━━━━━━━━━━━┩     ┡━━━━━━━╇━━━━━━━━━━━━━━━━━━━━━━╇━━━━━━━━━━━━┩\n",
       "│<span style=\"font-weight: bold\"> 2     </span>│ ivysaur         │<span style=\"color: #008000; text-decoration-color: #008000\"> 67.147%    </span>│     │<span style=\"font-weight: bold\"> 895   </span>│ regidrago            │<span style=\"color: #008080; text-decoration-color: #008080\"> 0.000%     </span>│\n",
       "│<span style=\"font-weight: bold\"> 3     </span>│ venusaur        │<span style=\"color: #008000; text-decoration-color: #008000\"> 61.266%    </span>│     │<span style=\"font-weight: bold\"> 693   </span>│ clawitzer            │<span style=\"color: #008080; text-decoration-color: #008080\"> 2.852%     </span>│\n",
       "│<span style=\"font-weight: bold\"> 406   </span>│ budew           │<span style=\"color: #008000; text-decoration-color: #008000\"> 57.669%    </span>│     │<span style=\"font-weight: bold\"> 10226 </span>│ urshifu-single-stri… │<span style=\"color: #008080; text-decoration-color: #008080\"> 3.116%     </span>│\n",
       "│<span style=\"font-weight: bold\"> 10033 </span>│ venusaur-mega   │<span style=\"color: #008000; text-decoration-color: #008000\"> 56.869%    </span>│     │<span style=\"font-weight: bold\"> 10207 </span>│ garbodor-gmax        │<span style=\"color: #008080; text-decoration-color: #008080\"> 5.100%     </span>│\n",
       "│<span style=\"font-weight: bold\"> 69    </span>│ bellsprout      │<span style=\"color: #008000; text-decoration-color: #008000\"> 56.698%    </span>│     │<span style=\"font-weight: bold\"> 575   </span>│ gothorita            │<span style=\"color: #008080; text-decoration-color: #008080\"> 5.350%     </span>│\n",
       "│<span style=\"font-weight: bold\"> 46    </span>│ paras           │<span style=\"color: #008000; text-decoration-color: #008000\"> 55.139%    </span>│     │<span style=\"font-weight: bold\"> 467   </span>│ magmortar            │<span style=\"color: #008080; text-decoration-color: #008080\"> 5.548%     </span>│\n",
       "│<span style=\"font-weight: bold\"> 387   </span>│ turtwig         │<span style=\"color: #008000; text-decoration-color: #008000\"> 52.325%    </span>│     │<span style=\"font-weight: bold\"> 10227 </span>│ urshifu-rapid-strik… │<span style=\"color: #008080; text-decoration-color: #008080\"> 5.817%     </span>│\n",
       "│<span style=\"font-weight: bold\"> 393   </span>│ piplup          │<span style=\"color: #008000; text-decoration-color: #008000\"> 51.747%    </span>│     │<span style=\"font-weight: bold\"> 473   </span>│ mamoswine            │<span style=\"color: #008080; text-decoration-color: #008080\"> 6.290%     </span>│\n",
       "│<span style=\"font-weight: bold\"> 4     </span>│ charmander      │<span style=\"color: #008000; text-decoration-color: #008000\"> 50.761%    </span>│     │<span style=\"font-weight: bold\"> 10215 </span>│ coalossal-gmax       │<span style=\"color: #008080; text-decoration-color: #008080\"> 6.820%     </span>│\n",
       "│<span style=\"font-weight: bold\"> 495   </span>│ snivy           │<span style=\"color: #008000; text-decoration-color: #008000\"> 50.669%    </span>│     │<span style=\"font-weight: bold\"> 10126 </span>│ lycanroc-midnight    │<span style=\"color: #008080; text-decoration-color: #008080\"> 7.165%     </span>│\n",
       "│<span style=\"font-weight: bold\"> 155   </span>│ cyndaquil       │<span style=\"color: #008000; text-decoration-color: #008000\"> 50.641%    </span>│     │<span style=\"font-weight: bold\"> 10242 </span>│ goodra-hisui         │<span style=\"color: #008080; text-decoration-color: #008080\"> 7.636%     </span>│\n",
       "│<span style=\"font-weight: bold\"> 432   </span>│ purugly         │<span style=\"color: #008000; text-decoration-color: #008000\"> 50.328%    </span>│     │<span style=\"font-weight: bold\"> 615   </span>│ cryogonal            │<span style=\"color: #008080; text-decoration-color: #008080\"> 8.163%     </span>│\n",
       "│<span style=\"font-weight: bold\"> 47    </span>│ parasect        │<span style=\"color: #008000; text-decoration-color: #008000\"> 50.271%    </span>│     │<span style=\"font-weight: bold\"> 10151 </span>│ rockruff-own-tempo   │<span style=\"color: #008080; text-decoration-color: #008080\"> 8.203%     </span>│\n",
       "│<span style=\"font-weight: bold\"> 511   </span>│ pansage         │<span style=\"color: #008000; text-decoration-color: #008000\"> 48.572%    </span>│     │<span style=\"font-weight: bold\"> 10225 </span>│ duraludon-gmax       │<span style=\"color: #008080; text-decoration-color: #008080\"> 8.294%     </span>│\n",
       "│<span style=\"font-weight: bold\"> 7     </span>│ squirtle        │<span style=\"color: #008000; text-decoration-color: #008000\"> 48.526%    </span>│     │<span style=\"font-weight: bold\"> 10152 </span>│ lycanroc-dusk        │<span style=\"color: #008080; text-decoration-color: #008080\"> 8.298%     </span>│\n",
       "│<span style=\"font-weight: bold\"> 231   </span>│ phanpy          │<span style=\"color: #008000; text-decoration-color: #008000\"> 48.472%    </span>│     │<span style=\"font-weight: bold\"> 807   </span>│ zeraora              │<span style=\"color: #008080; text-decoration-color: #008080\"> 8.671%     </span>│\n",
       "│<span style=\"font-weight: bold\"> 585   </span>│ deerling        │<span style=\"color: #008000; text-decoration-color: #008000\"> 48.082%    </span>│     │<span style=\"font-weight: bold\"> 896   </span>│ glastrier            │<span style=\"color: #008080; text-decoration-color: #008080\"> 8.701%     </span>│\n",
       "│<span style=\"font-weight: bold\"> 37    </span>│ vulpix          │<span style=\"color: #008000; text-decoration-color: #008000\"> 47.960%    </span>│     │<span style=\"font-weight: bold\"> 144   </span>│ articuno             │<span style=\"color: #008080; text-decoration-color: #008080\"> 8.750%     </span>│\n",
       "│<span style=\"font-weight: bold\"> 220   </span>│ swinub          │<span style=\"color: #008000; text-decoration-color: #008000\"> 47.604%    </span>│     │<span style=\"font-weight: bold\"> 176   </span>│ togetic              │<span style=\"color: #008080; text-decoration-color: #008080\"> 9.116%     </span>│\n",
       "│<span style=\"font-weight: bold\"> 74    </span>│ geodude         │<span style=\"color: #008000; text-decoration-color: #008000\"> 47.549%    </span>│     │<span style=\"font-weight: bold\"> 10239 </span>│ zoroark-hisui        │<span style=\"color: #008080; text-decoration-color: #008080\"> 10.189%    </span>│\n",
       "│<span style=\"font-weight: bold\"> 580   </span>│ ducklett        │<span style=\"color: #008000; text-decoration-color: #008000\"> 47.529%    </span>│     │<span style=\"font-weight: bold\"> 62    </span>│ poliwrath            │<span style=\"color: #008080; text-decoration-color: #008080\"> 10.418%    </span>│\n",
       "│<span style=\"font-weight: bold\"> 422   </span>│ shellos         │<span style=\"color: #008000; text-decoration-color: #008000\"> 47.518%    </span>│     │<span style=\"font-weight: bold\"> 159   </span>│ croconaw             │<span style=\"color: #008080; text-decoration-color: #008080\"> 10.460%    </span>│\n",
       "│<span style=\"font-weight: bold\"> 10166 </span>│ farfetchd-galar │<span style=\"color: #008000; text-decoration-color: #008000\"> 47.360%    </span>│     │<span style=\"font-weight: bold\"> 10236 </span>│ samurott-hisui       │<span style=\"color: #008080; text-decoration-color: #008080\"> 10.735%    </span>│\n",
       "│<span style=\"font-weight: bold\"> 83    </span>│ farfetchd       │<span style=\"color: #008000; text-decoration-color: #008000\"> 46.839%    </span>│     │<span style=\"font-weight: bold\"> 226   </span>│ mantine              │<span style=\"color: #008080; text-decoration-color: #008080\"> 10.890%    </span>│\n",
       "│<span style=\"font-weight: bold\"> 762   </span>│ steenee         │<span style=\"color: #008000; text-decoration-color: #008000\"> 46.827%    </span>│     │<span style=\"font-weight: bold\"> 126   </span>│ magmar               │<span style=\"color: #008080; text-decoration-color: #008080\"> 10.916%    </span>│\n",
       "└───────┴─────────────────┴────────────┘     └───────┴──────────────────────┴────────────┘\n",
       "                                                                                          \n",
       "                                                                                          \n",
       "                                                                                          \n",
       "                                                                                          \n",
       "                                                                                          \n",
       "</pre>\n"
      ],
      "text/plain": [
       "\u001b[3m   Pokémon Most Similar to bulbasaur    \u001b[0m     \u001b[3m     Pokémon Least Similar to bulbasaur      \u001b[0m\n",
       "┏━━━━━━━┳━━━━━━━━━━━━━━━━━┳━━━━━━━━━━━━┓     ┏━━━━━━━┳━━━━━━━━━━━━━━━━━━━━━━┳━━━━━━━━━━━━┓\n",
       "┃\u001b[1m \u001b[0m\u001b[1mID   \u001b[0m\u001b[1m \u001b[0m┃\u001b[1m \u001b[0m\u001b[1mPokémon        \u001b[0m\u001b[1m \u001b[0m┃\u001b[1m \u001b[0m\u001b[1mSimilarity\u001b[0m\u001b[1m \u001b[0m┃     ┃\u001b[1m \u001b[0m\u001b[1mID   \u001b[0m\u001b[1m \u001b[0m┃\u001b[1m \u001b[0m\u001b[1mPokémon             \u001b[0m\u001b[1m \u001b[0m┃\u001b[1m \u001b[0m\u001b[1mSimilarity\u001b[0m\u001b[1m \u001b[0m┃\n",
       "┡━━━━━━━╇━━━━━━━━━━━━━━━━━╇━━━━━━━━━━━━┩     ┡━━━━━━━╇━━━━━━━━━━━━━━━━━━━━━━╇━━━━━━━━━━━━┩\n",
       "│\u001b[1m \u001b[0m\u001b[1m2    \u001b[0m\u001b[1m \u001b[0m│ ivysaur         │\u001b[32m \u001b[0m\u001b[32m67.147%   \u001b[0m\u001b[32m \u001b[0m│     │\u001b[1m \u001b[0m\u001b[1m895  \u001b[0m\u001b[1m \u001b[0m│ regidrago            │\u001b[36m \u001b[0m\u001b[36m0.000%    \u001b[0m\u001b[36m \u001b[0m│\n",
       "│\u001b[1m \u001b[0m\u001b[1m3    \u001b[0m\u001b[1m \u001b[0m│ venusaur        │\u001b[32m \u001b[0m\u001b[32m61.266%   \u001b[0m\u001b[32m \u001b[0m│     │\u001b[1m \u001b[0m\u001b[1m693  \u001b[0m\u001b[1m \u001b[0m│ clawitzer            │\u001b[36m \u001b[0m\u001b[36m2.852%    \u001b[0m\u001b[36m \u001b[0m│\n",
       "│\u001b[1m \u001b[0m\u001b[1m406  \u001b[0m\u001b[1m \u001b[0m│ budew           │\u001b[32m \u001b[0m\u001b[32m57.669%   \u001b[0m\u001b[32m \u001b[0m│     │\u001b[1m \u001b[0m\u001b[1m10226\u001b[0m\u001b[1m \u001b[0m│ urshifu-single-stri… │\u001b[36m \u001b[0m\u001b[36m3.116%    \u001b[0m\u001b[36m \u001b[0m│\n",
       "│\u001b[1m \u001b[0m\u001b[1m10033\u001b[0m\u001b[1m \u001b[0m│ venusaur-mega   │\u001b[32m \u001b[0m\u001b[32m56.869%   \u001b[0m\u001b[32m \u001b[0m│     │\u001b[1m \u001b[0m\u001b[1m10207\u001b[0m\u001b[1m \u001b[0m│ garbodor-gmax        │\u001b[36m \u001b[0m\u001b[36m5.100%    \u001b[0m\u001b[36m \u001b[0m│\n",
       "│\u001b[1m \u001b[0m\u001b[1m69   \u001b[0m\u001b[1m \u001b[0m│ bellsprout      │\u001b[32m \u001b[0m\u001b[32m56.698%   \u001b[0m\u001b[32m \u001b[0m│     │\u001b[1m \u001b[0m\u001b[1m575  \u001b[0m\u001b[1m \u001b[0m│ gothorita            │\u001b[36m \u001b[0m\u001b[36m5.350%    \u001b[0m\u001b[36m \u001b[0m│\n",
       "│\u001b[1m \u001b[0m\u001b[1m46   \u001b[0m\u001b[1m \u001b[0m│ paras           │\u001b[32m \u001b[0m\u001b[32m55.139%   \u001b[0m\u001b[32m \u001b[0m│     │\u001b[1m \u001b[0m\u001b[1m467  \u001b[0m\u001b[1m \u001b[0m│ magmortar            │\u001b[36m \u001b[0m\u001b[36m5.548%    \u001b[0m\u001b[36m \u001b[0m│\n",
       "│\u001b[1m \u001b[0m\u001b[1m387  \u001b[0m\u001b[1m \u001b[0m│ turtwig         │\u001b[32m \u001b[0m\u001b[32m52.325%   \u001b[0m\u001b[32m \u001b[0m│     │\u001b[1m \u001b[0m\u001b[1m10227\u001b[0m\u001b[1m \u001b[0m│ urshifu-rapid-strik… │\u001b[36m \u001b[0m\u001b[36m5.817%    \u001b[0m\u001b[36m \u001b[0m│\n",
       "│\u001b[1m \u001b[0m\u001b[1m393  \u001b[0m\u001b[1m \u001b[0m│ piplup          │\u001b[32m \u001b[0m\u001b[32m51.747%   \u001b[0m\u001b[32m \u001b[0m│     │\u001b[1m \u001b[0m\u001b[1m473  \u001b[0m\u001b[1m \u001b[0m│ mamoswine            │\u001b[36m \u001b[0m\u001b[36m6.290%    \u001b[0m\u001b[36m \u001b[0m│\n",
       "│\u001b[1m \u001b[0m\u001b[1m4    \u001b[0m\u001b[1m \u001b[0m│ charmander      │\u001b[32m \u001b[0m\u001b[32m50.761%   \u001b[0m\u001b[32m \u001b[0m│     │\u001b[1m \u001b[0m\u001b[1m10215\u001b[0m\u001b[1m \u001b[0m│ coalossal-gmax       │\u001b[36m \u001b[0m\u001b[36m6.820%    \u001b[0m\u001b[36m \u001b[0m│\n",
       "│\u001b[1m \u001b[0m\u001b[1m495  \u001b[0m\u001b[1m \u001b[0m│ snivy           │\u001b[32m \u001b[0m\u001b[32m50.669%   \u001b[0m\u001b[32m \u001b[0m│     │\u001b[1m \u001b[0m\u001b[1m10126\u001b[0m\u001b[1m \u001b[0m│ lycanroc-midnight    │\u001b[36m \u001b[0m\u001b[36m7.165%    \u001b[0m\u001b[36m \u001b[0m│\n",
       "│\u001b[1m \u001b[0m\u001b[1m155  \u001b[0m\u001b[1m \u001b[0m│ cyndaquil       │\u001b[32m \u001b[0m\u001b[32m50.641%   \u001b[0m\u001b[32m \u001b[0m│     │\u001b[1m \u001b[0m\u001b[1m10242\u001b[0m\u001b[1m \u001b[0m│ goodra-hisui         │\u001b[36m \u001b[0m\u001b[36m7.636%    \u001b[0m\u001b[36m \u001b[0m│\n",
       "│\u001b[1m \u001b[0m\u001b[1m432  \u001b[0m\u001b[1m \u001b[0m│ purugly         │\u001b[32m \u001b[0m\u001b[32m50.328%   \u001b[0m\u001b[32m \u001b[0m│     │\u001b[1m \u001b[0m\u001b[1m615  \u001b[0m\u001b[1m \u001b[0m│ cryogonal            │\u001b[36m \u001b[0m\u001b[36m8.163%    \u001b[0m\u001b[36m \u001b[0m│\n",
       "│\u001b[1m \u001b[0m\u001b[1m47   \u001b[0m\u001b[1m \u001b[0m│ parasect        │\u001b[32m \u001b[0m\u001b[32m50.271%   \u001b[0m\u001b[32m \u001b[0m│     │\u001b[1m \u001b[0m\u001b[1m10151\u001b[0m\u001b[1m \u001b[0m│ rockruff-own-tempo   │\u001b[36m \u001b[0m\u001b[36m8.203%    \u001b[0m\u001b[36m \u001b[0m│\n",
       "│\u001b[1m \u001b[0m\u001b[1m511  \u001b[0m\u001b[1m \u001b[0m│ pansage         │\u001b[32m \u001b[0m\u001b[32m48.572%   \u001b[0m\u001b[32m \u001b[0m│     │\u001b[1m \u001b[0m\u001b[1m10225\u001b[0m\u001b[1m \u001b[0m│ duraludon-gmax       │\u001b[36m \u001b[0m\u001b[36m8.294%    \u001b[0m\u001b[36m \u001b[0m│\n",
       "│\u001b[1m \u001b[0m\u001b[1m7    \u001b[0m\u001b[1m \u001b[0m│ squirtle        │\u001b[32m \u001b[0m\u001b[32m48.526%   \u001b[0m\u001b[32m \u001b[0m│     │\u001b[1m \u001b[0m\u001b[1m10152\u001b[0m\u001b[1m \u001b[0m│ lycanroc-dusk        │\u001b[36m \u001b[0m\u001b[36m8.298%    \u001b[0m\u001b[36m \u001b[0m│\n",
       "│\u001b[1m \u001b[0m\u001b[1m231  \u001b[0m\u001b[1m \u001b[0m│ phanpy          │\u001b[32m \u001b[0m\u001b[32m48.472%   \u001b[0m\u001b[32m \u001b[0m│     │\u001b[1m \u001b[0m\u001b[1m807  \u001b[0m\u001b[1m \u001b[0m│ zeraora              │\u001b[36m \u001b[0m\u001b[36m8.671%    \u001b[0m\u001b[36m \u001b[0m│\n",
       "│\u001b[1m \u001b[0m\u001b[1m585  \u001b[0m\u001b[1m \u001b[0m│ deerling        │\u001b[32m \u001b[0m\u001b[32m48.082%   \u001b[0m\u001b[32m \u001b[0m│     │\u001b[1m \u001b[0m\u001b[1m896  \u001b[0m\u001b[1m \u001b[0m│ glastrier            │\u001b[36m \u001b[0m\u001b[36m8.701%    \u001b[0m\u001b[36m \u001b[0m│\n",
       "│\u001b[1m \u001b[0m\u001b[1m37   \u001b[0m\u001b[1m \u001b[0m│ vulpix          │\u001b[32m \u001b[0m\u001b[32m47.960%   \u001b[0m\u001b[32m \u001b[0m│     │\u001b[1m \u001b[0m\u001b[1m144  \u001b[0m\u001b[1m \u001b[0m│ articuno             │\u001b[36m \u001b[0m\u001b[36m8.750%    \u001b[0m\u001b[36m \u001b[0m│\n",
       "│\u001b[1m \u001b[0m\u001b[1m220  \u001b[0m\u001b[1m \u001b[0m│ swinub          │\u001b[32m \u001b[0m\u001b[32m47.604%   \u001b[0m\u001b[32m \u001b[0m│     │\u001b[1m \u001b[0m\u001b[1m176  \u001b[0m\u001b[1m \u001b[0m│ togetic              │\u001b[36m \u001b[0m\u001b[36m9.116%    \u001b[0m\u001b[36m \u001b[0m│\n",
       "│\u001b[1m \u001b[0m\u001b[1m74   \u001b[0m\u001b[1m \u001b[0m│ geodude         │\u001b[32m \u001b[0m\u001b[32m47.549%   \u001b[0m\u001b[32m \u001b[0m│     │\u001b[1m \u001b[0m\u001b[1m10239\u001b[0m\u001b[1m \u001b[0m│ zoroark-hisui        │\u001b[36m \u001b[0m\u001b[36m10.189%   \u001b[0m\u001b[36m \u001b[0m│\n",
       "│\u001b[1m \u001b[0m\u001b[1m580  \u001b[0m\u001b[1m \u001b[0m│ ducklett        │\u001b[32m \u001b[0m\u001b[32m47.529%   \u001b[0m\u001b[32m \u001b[0m│     │\u001b[1m \u001b[0m\u001b[1m62   \u001b[0m\u001b[1m \u001b[0m│ poliwrath            │\u001b[36m \u001b[0m\u001b[36m10.418%   \u001b[0m\u001b[36m \u001b[0m│\n",
       "│\u001b[1m \u001b[0m\u001b[1m422  \u001b[0m\u001b[1m \u001b[0m│ shellos         │\u001b[32m \u001b[0m\u001b[32m47.518%   \u001b[0m\u001b[32m \u001b[0m│     │\u001b[1m \u001b[0m\u001b[1m159  \u001b[0m\u001b[1m \u001b[0m│ croconaw             │\u001b[36m \u001b[0m\u001b[36m10.460%   \u001b[0m\u001b[36m \u001b[0m│\n",
       "│\u001b[1m \u001b[0m\u001b[1m10166\u001b[0m\u001b[1m \u001b[0m│ farfetchd-galar │\u001b[32m \u001b[0m\u001b[32m47.360%   \u001b[0m\u001b[32m \u001b[0m│     │\u001b[1m \u001b[0m\u001b[1m10236\u001b[0m\u001b[1m \u001b[0m│ samurott-hisui       │\u001b[36m \u001b[0m\u001b[36m10.735%   \u001b[0m\u001b[36m \u001b[0m│\n",
       "│\u001b[1m \u001b[0m\u001b[1m83   \u001b[0m\u001b[1m \u001b[0m│ farfetchd       │\u001b[32m \u001b[0m\u001b[32m46.839%   \u001b[0m\u001b[32m \u001b[0m│     │\u001b[1m \u001b[0m\u001b[1m226  \u001b[0m\u001b[1m \u001b[0m│ mantine              │\u001b[36m \u001b[0m\u001b[36m10.890%   \u001b[0m\u001b[36m \u001b[0m│\n",
       "│\u001b[1m \u001b[0m\u001b[1m762  \u001b[0m\u001b[1m \u001b[0m│ steenee         │\u001b[32m \u001b[0m\u001b[32m46.827%   \u001b[0m\u001b[32m \u001b[0m│     │\u001b[1m \u001b[0m\u001b[1m126  \u001b[0m\u001b[1m \u001b[0m│ magmar               │\u001b[36m \u001b[0m\u001b[36m10.916%   \u001b[0m\u001b[36m \u001b[0m│\n",
       "└───────┴─────────────────┴────────────┘     └───────┴──────────────────────┴────────────┘\n",
       "                                                                                          \n",
       "                                                                                          \n",
       "                                                                                          \n",
       "                                                                                          \n",
       "                                                                                          \n"
      ]
     },
     "metadata": {},
     "output_type": "display_data"
    }
   ],
   "source": [
    "top_n = 25\n",
    "filtered_indices_pos = top_indicies[1 : (top_n + 1)]\n",
    "filtered_indices_neg = top_indicies[-(top_n):][::-1]\n",
    "\n",
    "layout = Layout()\n",
    "layout.split_row(\n",
    "    Layout(name=\"left\"),\n",
    "    Layout(name=\"right\"),\n",
    ")\n",
    "\n",
    "# Top N Pokemon\n",
    "pos_table = Table(title=f\"Pokémon Most Similar to {target_poke['name']}\")\n",
    "\n",
    "pos_table.add_column(\"ID\", style=\"bold\")\n",
    "pos_table.add_column(\"Pokémon\")\n",
    "pos_table.add_column(\"Similarity\", style=\"green\")\n",
    "\n",
    "for index in filtered_indices_pos:\n",
    "    idx = int(index)\n",
    "    pos_table.add_row(str(dataset[idx][\"id\"]), dataset[idx][\"name\"], f\"{cos_sims[idx]:.3%}\")\n",
    "\n",
    "layout[\"left\"].update(pos_table)\n",
    "\n",
    "# Bottom N Pokemon\n",
    "neg_table = Table(title=f\"Pokémon Least Similar to {target_poke['name']}\")\n",
    "\n",
    "neg_table.add_column(\"ID\", style=\"bold\")\n",
    "neg_table.add_column(\"Pokémon\")\n",
    "neg_table.add_column(\"Similarity\", style=\"cyan\")\n",
    "\n",
    "for index in filtered_indices_neg:\n",
    "    idx = int(index)\n",
    "    neg_table.add_row(str(dataset[idx][\"id\"]), dataset[idx][\"name\"], f\"{cos_sims[idx]:.3%}\")\n",
    "\n",
    "layout[\"right\"].update(neg_table)\n",
    "\n",
    "console = Console(width=90, height=top_n+10)\n",
    "console.print(layout)"
   ]
  },
  {
   "cell_type": "code",
   "execution_count": null,
   "metadata": {},
   "outputs": [],
   "source": []
  }
 ],
 "metadata": {
  "kernelspec": {
   "display_name": "Python 3",
   "language": "python",
   "name": "python3"
  },
  "language_info": {
   "codemirror_mode": {
    "name": "ipython",
    "version": 3
   },
   "file_extension": ".py",
   "mimetype": "text/x-python",
   "name": "python",
   "nbconvert_exporter": "python",
   "pygments_lexer": "ipython3",
   "version": "3.9.12"
  },
  "orig_nbformat": 4,
  "vscode": {
   "interpreter": {
    "hash": "aee8b7b246df8f9039afb4144a1f6fd8d2ca17a180786b69acc140d282b71a49"
   }
  }
 },
 "nbformat": 4,
 "nbformat_minor": 2
}
